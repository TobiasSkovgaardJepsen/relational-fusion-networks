{
 "cells": [
  {
   "cell_type": "markdown",
   "metadata": {},
   "source": [
    "# How to Train Your Relational Fusion Network\n",
    "This notebook gives a brief overview on how to define and train Relational Fusion Networks (RFNs) [1]. You may find an extended arXiv preprint of the paper [here](https://arxiv.org/abs/1908.11567).\n",
    "\n",
    "The implementation relies on the deep learning framework [MXNet](https://mxnet.incubator.apache.org/), but familiarity with other deep learning frameworks should be sufficient to understand this tutorial. If you are not familiar with any deep learning framework, consider reading [MXNet's tutorial]](https://beta.mxnet.io/guide/crash-course/index.html) on their Gluon API which is used in this library."
   ]
  },
  {
   "cell_type": "markdown",
   "metadata": {},
   "source": [
    "## Example Data and Data Processing\n",
    "An RFN requires a graph representation of a network along with feature matrices for the node, edge, and between-edge features. Between-edge features in this case refers to features that describe the relationship between two edges. In our paper, we use, e.g., the angle between two road segments represented as edges. However, to keep this tutorial rief, we generate random features.\n",
    "\n",
    "We illustrate how to use the library through a simple graph example: the three-way intersection illustrated to the right in Fig. 2 in [1]. "
   ]
  },
  {
   "cell_type": "markdown",
   "metadata": {},
   "source": [
    "### Input Graph Definitions\n",
    "We now create primal and dual graph representations of the intersection.\n",
    "\n",
    "In this example we use the easy-to-use graph library `networkx`. Consider using the `python-igraph` library for large graphs."
   ]
  },
  {
   "cell_type": "code",
   "execution_count": 1,
   "metadata": {},
   "outputs": [],
   "source": [
    "import networkx as nx\n",
    "import matplotlib.pyplot as plt\n",
    "\n",
    "def plot_graph(G, pos={}):\n",
    "    if not pos:\n",
    "        pos = nx.spring_layout(G)\n",
    "    \n",
    "    nx.draw_networkx_nodes(G, pos, node_size = 500)\n",
    "    nx.draw_networkx_labels(G, pos)\n",
    "    nx.draw_networkx_edges(G, pos, arrows=True)\n",
    "    plt.axis('off')\n",
    "    plt.show()"
   ]
  },
  {
   "cell_type": "markdown",
   "metadata": {},
   "source": [
    "### Primal Graph Defintion\n",
    "In the primal graph, nodes represent intersections and edges represent road segments. Using the `networkx` library we only have to add the road segments as edges; the source and target nodes of an edge are implicitly added if they are missing."
   ]
  },
  {
   "cell_type": "code",
   "execution_count": 2,
   "metadata": {},
   "outputs": [
    {
     "data": {
      "image/png": "[encoded data removed]",
      "text/plain": [
       "<Figure size 432x288 with 1 Axes>"
      ]
     },
     "metadata": {
      "needs_background": "light"
     },
     "output_type": "display_data"
    }
   ],
   "source": [
    "primal_graph = nx.DiGraph()\n",
    "\n",
    "primal_graph.add_edge('A', 'B')\n",
    "primal_graph.add_edge('B', 'A')\n",
    "\n",
    "primal_graph.add_edge('B', 'C')\n",
    "primal_graph.add_edge('C', 'B')\n",
    "\n",
    "primal_graph.add_edge('B', 'D')\n",
    "primal_graph.add_edge('D', 'B')\n",
    "\n",
    "pos = {\n",
    "    'A': (-1, 0),\n",
    "    'B': (0, 0),\n",
    "    'C': (0, 1),\n",
    "    'D': (0, -1)}\n",
    "\n",
    "plot_graph(primal_graph, pos)"
   ]
  },
  {
   "cell_type": "markdown",
   "metadata": {},
   "source": [
    "### Dual Graph Representation\n",
    "We can now convert the primal graph to a dual graph. In the dual graph, the road segments (edges in the primal graph) become nodes and edges in the dual graph, which we refer to as between-edges, indicate that two edges are connected through a node."
   ]
  },
  {
   "cell_type": "code",
   "execution_count": 3,
   "metadata": {},
   "outputs": [
    {
     "data": {
      "image/png": "[encoded data removed]",
      "text/plain": [
       "<Figure size 432x288 with 1 Axes>"
      ]
     },
     "metadata": {
      "needs_background": "light"
     },
     "output_type": "display_data"
    }
   ],
   "source": [
    "dual_graph = nx.DiGraph()\n",
    "dual_graph.add_nodes_from(\n",
    "    ''.join(edge)\n",
    "    for edge in primal_graph.edges\n",
    ")\n",
    "\n",
    "for in_edge in primal_graph.edges():\n",
    "    in_source, in_target = in_edge\n",
    "    for out_target in primal_graph.successors(in_target):\n",
    "        dual_graph.add_edge(\n",
    "            ''.join(in_edge),\n",
    "            ''.join([in_target, out_target])\n",
    "        )\n",
    "\n",
    "pos = {\n",
    "    'AB': (0, 0),\n",
    "    'BA': (0, -1),\n",
    "    'BC': (1, 0),\n",
    "    'DB': (1, -1),\n",
    "    'CB': (2, 0),\n",
    "    'BD': (2, -1)\n",
    "}\n",
    "plot_graph(dual_graph, pos)"
   ]
  },
  {
   "cell_type": "markdown",
   "metadata": {},
   "source": [
    "## Data Preprocessing\n",
    "To utilize the highly-optimised tensor operations in the MXNet deep learning library, we  first format the primal and dual graphs as matrices."
   ]
  },
  {
   "cell_type": "code",
   "execution_count": 4,
   "metadata": {},
   "outputs": [],
   "source": [
    "from itertools import chain\n",
    "from mxnet import ndarray as nd\n",
    "import numpy as np\n",
    "from pprint import pprint"
   ]
  },
  {
   "cell_type": "markdown",
   "metadata": {},
   "source": [
    "### Building Neighborhood Matrices\n",
    "The main idea for building the neighborhood matrices is to convert each graph into an adjacency list in matrix format.\n",
    "Such a matrix is of size $|V| \\times N_{\\mathit{max}}$, where $N_{\\mathit{max}}$ is the maximum number of neighbors of a node has in the graph.\n",
    "\n",
    "Not all nodes have the maximum number of neighbors. We therefore also compute a mask that the implementation uses to ignore entries in the matrix-formatted adjacency list.\n",
    "RFNs also use information from the edges that connect them to the neighbors. We therefore also compute an edge-adjacency list in the same manner. See the function below for details."
   ]
  },
  {
   "cell_type": "code",
   "execution_count": 5,
   "metadata": {},
   "outputs": [],
   "source": [
    "def make_neighborhood_matrices(graph, node_indices, edge_indices,\n",
    "                               is_dual=False, node_indices_primal=None):\n",
    "    \"\"\"\n",
    "        Converts a graph into node and edge the required neighborhood matrices with asso\n",
    "\n",
    "        Args:\n",
    "            graph: A networkx primal or dual graph presentation of a road network.\n",
    "            node_indices: A map from node objects in the graph to node indexes in\n",
    "                          the output node neighborhood matrix N_node.\n",
    "            edge_indices: A map from edge objects in the graph to edge indexes in\n",
    "                          the output edge neighborhood matrix N_edge.\n",
    "            is_dual: Boolean flag that indicates whether the graph is a dual graph.\n",
    "            node_indices_primal: Must be supplied if is_dual is True.\n",
    "                                 Maps node objects in the primal graph to node indexes in\n",
    "                                 the common node neighborhood matrix N_common_node.\n",
    "        Returns:\n",
    "            N_node: A node adjacency list in matrix format.\n",
    "                    The ith row contains the node indices of the nodes\n",
    "                    in the neighborhood of the ith node. of the ith node.\n",
    "            N_edge: A node adjacency list in matrix format.\n",
    "                    The ith row contains the edge indices of the edges connecting the ith\n",
    "                    node to its neighbors.\n",
    "            N_mask: A matrix that indicates whether the jth entry in N_node or N_edge \n",
    "                    exists in the graph.\n",
    "            N_common_node: Only returned if is_dual=True.\n",
    "                           A common node is a node that is common to the two edges\n",
    "                           connected by a between-edge. The ith row and jth column in \n",
    "                           this matrix contains the index of the common node that connects \n",
    "                           ith edge (a node in the dual graph) is connected to its jth neighbor.\n",
    "            N_common_mask: Only returned if is_dual=True.\n",
    "                           Similar to N_mask, N_common_mask indicates whether the jth entry in\n",
    "                           N_common_node exists in the graph.\n",
    "                           \n",
    "        Raises:\n",
    "            KeyError: Raises an exception.\n",
    "    \"\"\"\n",
    "    assert not is_dual or is_dual and node_indices_primal is not None\n",
    "    N_node = []\n",
    "    N_edge = []\n",
    "    \n",
    "    nodes = sorted(\n",
    "        list(graph.nodes()),\n",
    "        key=lambda node: node_indices[node])\n",
    "\n",
    "    for node in nodes:\n",
    "        node_neighbors = []\n",
    "        edge_neighbors = []\n",
    "        \n",
    "        predecessors = graph.predecessors(node)\n",
    "        for neighbor in predecessors:\n",
    "            node_neighbors.append(node_indices[neighbor])\n",
    "            edge = (neighbor, node)\n",
    "            edge_neighbors.append(edge_indices[edge])\n",
    "        \n",
    "        successors = graph.successors(node)\n",
    "        for neighbor in successors:\n",
    "            node_neighbors.append(node_indices[neighbor])\n",
    "            edge = (node, neighbor)\n",
    "            edge_neighbors.append(edge_indices[edge])\n",
    "\n",
    "        assert len(node_neighbors) == len(edge_neighbors)\n",
    "        N_node.append(node_neighbors)\n",
    "        N_edge.append(edge_neighbors)\n",
    "        \n",
    "    N_node, N_mask = mask_neighborhoods(N_node)\n",
    "    N_edge, _ = mask_neighborhoods(N_edge)\n",
    "    N_mask = N_mask.reshape(*N_node.shape[:2], 1)\n",
    "\n",
    "    if is_dual:\n",
    "        N_common_node = [\n",
    "            [node_indices_primal[edge[0][1]]]\n",
    "             for edge in graph.edges()]\n",
    "        N_common_node, N_common_node_mask = mask_neighborhoods(N_common_node, is_dual)\n",
    "        N_common_node_mask = N_common_node_mask.reshape(*N_common_node.shape[:2], 1)\n",
    "        return (N_node, N_edge, N_mask), (N_common_node, N_common_node_mask)\n",
    "    else:\n",
    "        return N_node, N_edge, N_mask\n",
    "\n",
    "def mask_neighborhoods(neighborhoods_list, is_dual=False):\n",
    "    max_no_neighbors = (\n",
    "        max(len(n) for n in neighborhoods_list) if not is_dual\n",
    "        else 1)\n",
    "    shape = (len(neighborhoods_list), max_no_neighbors)\n",
    "\n",
    "    neighborhoods_array = nd.zeros(\n",
    "        shape=shape,\n",
    "        dtype=np.int32)\n",
    "    mask = nd.zeros(shape=shape)\n",
    "\n",
    "    for idx, neighborhood in enumerate(neighborhoods_list):\n",
    "        neighborhood_size = len(neighborhood)\n",
    "        if neighborhood_size == 0:\n",
    "            mask[:] = 1\n",
    "            continue\n",
    "        else:\n",
    "            neighborhoods_array[idx][:neighborhood_size] = neighborhood\n",
    "            mask[idx][:neighborhood_size] = 1\n",
    "\n",
    "    return neighborhoods_array, mask"
   ]
  },
  {
   "cell_type": "markdown",
   "metadata": {},
   "source": [
    "#### Building the Primal Graph Matrices"
   ]
  },
  {
   "cell_type": "code",
   "execution_count": 6,
   "metadata": {},
   "outputs": [
    {
     "name": "stdout",
     "output_type": "stream",
     "text": [
      "Neighborhood and Mask Matrices for the Primal Graph\n",
      "N_node \n",
      "[[1 1 0 0 0 0]\n",
      " [0 2 3 0 2 3]\n",
      " [1 1 0 0 0 0]\n",
      " [1 1 0 0 0 0]]\n",
      "<NDArray 4x6 @cpu(0)>\n",
      "N_edge \n",
      "[[1 0 0 0 0 0]\n",
      " [0 4 5 1 2 3]\n",
      " [2 4 0 0 0 0]\n",
      " [3 5 0 0 0 0]]\n",
      "<NDArray 4x6 @cpu(0)>\n",
      "N_mask \n",
      "[[[1.]\n",
      "  [1.]\n",
      "  [0.]\n",
      "  [0.]\n",
      "  [0.]\n",
      "  [0.]]\n",
      "\n",
      " [[1.]\n",
      "  [1.]\n",
      "  [1.]\n",
      "  [1.]\n",
      "  [1.]\n",
      "  [1.]]\n",
      "\n",
      " [[1.]\n",
      "  [1.]\n",
      "  [0.]\n",
      "  [0.]\n",
      "  [0.]\n",
      "  [0.]]\n",
      "\n",
      " [[1.]\n",
      "  [1.]\n",
      "  [0.]\n",
      "  [0.]\n",
      "  [0.]\n",
      "  [0.]]]\n",
      "<NDArray 4x6x1 @cpu(0)>\n"
     ]
    }
   ],
   "source": [
    "node_indices_primal = {node: idx for idx, node in enumerate(primal_graph.nodes())}\n",
    "edge_indices_primal = {edge: idx for idx, edge in enumerate(primal_graph.edges())}\n",
    "\n",
    "N_node_primal, N_edge_primal, N_mask_primal = edge_neighborhoods_primal = make_neighborhood_matrices(\n",
    "    primal_graph, node_indices_primal, edge_indices_primal)\n",
    "print('Neighborhood and Mask Matrices for the Primal Graph')\n",
    "print('N_node', N_node_primal)\n",
    "print('N_edge', N_edge_primal)\n",
    "print('N_mask', N_mask_primal)"
   ]
  },
  {
   "cell_type": "markdown",
   "metadata": {},
   "source": [
    "#### Building the Dual Graph Matrices "
   ]
  },
  {
   "cell_type": "code",
   "execution_count": 7,
   "metadata": {},
   "outputs": [
    {
     "name": "stdout",
     "output_type": "stream",
     "text": [
      "[(\n",
      "[[1 1 2 3]\n",
      " [0 4 5 0]\n",
      " [0 4 5 4]\n",
      " [0 4 5 5]\n",
      " [2 1 2 3]\n",
      " [3 1 2 3]]\n",
      "<NDArray 6x4 @cpu(0)>,\n",
      "  \n",
      "[[ 3  0  1  2]\n",
      " [ 0  6  9  3]\n",
      " [ 1  7 10  4]\n",
      " [ 2  8 11  5]\n",
      " [ 4  6  7  8]\n",
      " [ 5  9 10 11]]\n",
      "<NDArray 6x4 @cpu(0)>,\n",
      "  \n",
      "[[[1.]\n",
      "  [1.]\n",
      "  [1.]\n",
      "  [1.]]\n",
      "\n",
      " [[1.]\n",
      "  [1.]\n",
      "  [1.]\n",
      "  [1.]]\n",
      "\n",
      " [[1.]\n",
      "  [1.]\n",
      "  [1.]\n",
      "  [1.]]\n",
      "\n",
      " [[1.]\n",
      "  [1.]\n",
      "  [1.]\n",
      "  [1.]]\n",
      "\n",
      " [[1.]\n",
      "  [1.]\n",
      "  [1.]\n",
      "  [1.]]\n",
      "\n",
      " [[1.]\n",
      "  [1.]\n",
      "  [1.]\n",
      "  [1.]]]\n",
      "<NDArray 6x4x1 @cpu(0)>),\n",
      " (\n",
      "[[1]\n",
      " [1]\n",
      " [1]\n",
      " [0]\n",
      " [2]\n",
      " [3]\n",
      " [1]\n",
      " [1]\n",
      " [1]\n",
      " [1]\n",
      " [1]\n",
      " [1]]\n",
      "<NDArray 12x1 @cpu(0)>,\n",
      "  \n",
      "[[[1.]]\n",
      "\n",
      " [[1.]]\n",
      "\n",
      " [[1.]]\n",
      "\n",
      " [[1.]]\n",
      "\n",
      " [[1.]]\n",
      "\n",
      " [[1.]]\n",
      "\n",
      " [[1.]]\n",
      "\n",
      " [[1.]]\n",
      "\n",
      " [[1.]]\n",
      "\n",
      " [[1.]]\n",
      "\n",
      " [[1.]]\n",
      "\n",
      " [[1.]]]\n",
      "<NDArray 12x1x1 @cpu(0)>)]\n",
      "Neighborhood and Mask Matrices for the Dual Graph\n",
      "N_node \n",
      "[[1 1 2 3]\n",
      " [0 4 5 0]\n",
      " [0 4 5 4]\n",
      " [0 4 5 5]\n",
      " [2 1 2 3]\n",
      " [3 1 2 3]]\n",
      "<NDArray 6x4 @cpu(0)>\n",
      "N_edge \n",
      "[[ 3  0  1  2]\n",
      " [ 0  6  9  3]\n",
      " [ 1  7 10  4]\n",
      " [ 2  8 11  5]\n",
      " [ 4  6  7  8]\n",
      " [ 5  9 10 11]]\n",
      "<NDArray 6x4 @cpu(0)>\n",
      "N_mask \n",
      "[[[1.]\n",
      "  [1.]\n",
      "  [1.]\n",
      "  [1.]]\n",
      "\n",
      " [[1.]\n",
      "  [1.]\n",
      "  [1.]\n",
      "  [1.]]\n",
      "\n",
      " [[1.]\n",
      "  [1.]\n",
      "  [1.]\n",
      "  [1.]]\n",
      "\n",
      " [[1.]\n",
      "  [1.]\n",
      "  [1.]\n",
      "  [1.]]\n",
      "\n",
      " [[1.]\n",
      "  [1.]\n",
      "  [1.]\n",
      "  [1.]]\n",
      "\n",
      " [[1.]\n",
      "  [1.]\n",
      "  [1.]\n",
      "  [1.]]]\n",
      "<NDArray 6x4x1 @cpu(0)>\n",
      "N_common_node \n",
      "[[1]\n",
      " [1]\n",
      " [1]\n",
      " [0]\n",
      " [2]\n",
      " [3]\n",
      " [1]\n",
      " [1]\n",
      " [1]\n",
      " [1]\n",
      " [1]\n",
      " [1]]\n",
      "<NDArray 12x1 @cpu(0)>\n",
      "N_common_node_mask \n",
      "[[[1.]]\n",
      "\n",
      " [[1.]]\n",
      "\n",
      " [[1.]]\n",
      "\n",
      " [[1.]]\n",
      "\n",
      " [[1.]]\n",
      "\n",
      " [[1.]]\n",
      "\n",
      " [[1.]]\n",
      "\n",
      " [[1.]]\n",
      "\n",
      " [[1.]]\n",
      "\n",
      " [[1.]]\n",
      "\n",
      " [[1.]]\n",
      "\n",
      " [[1.]]]\n",
      "<NDArray 12x1x1 @cpu(0)>\n"
     ]
    }
   ],
   "source": [
    "node_indices_dual = {node: idx for idx, node in enumerate(dual_graph.nodes())}\n",
    "edge_indices_dual = {edge: idx for idx, edge in enumerate(dual_graph.edges())}\n",
    "\n",
    "(N_node_dual, N_edge_dual, N_mask_dual), (N_common_node, N_common_node_mask) = make_neighborhood_matrices(\n",
    "    dual_graph, node_indices_dual, edge_indices_dual,\n",
    "    is_dual=True, node_indices_primal=node_indices_primal)\n",
    "\n",
    "pprint([(N_node_dual, N_edge_dual, N_mask_dual), (N_common_node, N_common_node_mask)])\n",
    "print('Neighborhood and Mask Matrices for the Dual Graph')\n",
    "print('N_node', N_node_dual)\n",
    "print('N_edge', N_edge_dual)\n",
    "print('N_mask', N_mask_dual)\n",
    "print('N_common_node', N_common_node)\n",
    "print('N_common_node_mask', N_common_node_mask)"
   ]
  },
  {
   "cell_type": "markdown",
   "metadata": {},
   "source": [
    "### Features and Labels\n",
    "We randomly generate some features nodes, edges, and between-edges to demonstrate the library.\n",
    "We also generate random edge labels."
   ]
  },
  {
   "cell_type": "code",
   "execution_count": 8,
   "metadata": {},
   "outputs": [],
   "source": [
    "X_V = nd.random.uniform(shape=(primal_graph.number_of_nodes(), 1))  # Node Features\n",
    "X_E = nd.random.uniform(shape=(primal_graph.number_of_edges(), 3))  # Edge Features\n",
    "X_B = nd.random.uniform(shape=(dual_graph.number_of_edges(), 2))    # Between-Edge Features\n",
    "(X_V, X_E, X_B)\n",
    "\n",
    "y = nd.random.uniform(shape=(primal_graph.number_of_edges(), 1))"
   ]
  },
  {
   "cell_type": "markdown",
   "metadata": {},
   "source": [
    "## Instantiating a Relational Fusion Network\n",
    "In the following, we use the high-level API of the library that can be found in the `rfn.factory_functions` module.\n",
    "For more fine-grained control, consult the remaining code in the `rfn` module."
   ]
  },
  {
   "cell_type": "code",
   "execution_count": 9,
   "metadata": {},
   "outputs": [],
   "source": [
    "from rfn.factory_functions import make_rfn, RFNLayerSpecification, FeatureInfo\n",
    "from rfn.relational_fusion.normalizers import NoNormalization, L2Normalization\n",
    "from mxnet.gluon.nn import ELU"
   ]
  },
  {
   "cell_type": "markdown",
   "metadata": {},
   "source": [
    "We first define the architecture of the RFN before passing the specification to the `make_rfn` factory function.\n",
    "This is done by first constructing a `FeatureInfo` that contains information on the number of input node, edge, and between-edge features. Then, the hidden layers and output layers are specified using `RFNLayerSpecification` objects.\n",
    "To create an `RFNLayerSpecificationObject`, supply parameters indicating the (output) units of the layer, what fusion function to use, what aggregator to use, and the activation of the fusion function. In this example, the layers have the same number of units, but that need not be the case.\n",
    "\n",
    "Currently the library supports the additive [1, 2] and interactional [2] fusion functions along with non-attentional [1] and attentional [2] aggregators as shown below. The non-attentional aggregator corresponds to the mean aggregator of GraphSAGE [3]."
   ]
  },
  {
   "cell_type": "code",
   "execution_count": 10,
   "metadata": {},
   "outputs": [],
   "source": [
    "input_feature_info = FeatureInfo.from_feature_matrices(X_V, X_E, X_B)\n",
    "no_hidden_layers = 3\n",
    "hidden_layer_specs = [\n",
    "    RFNLayerSpecification(\n",
    "        units=16,\n",
    "        fusion='interactional',\n",
    "        aggregator='attentional',\n",
    "        normalization=L2Normalization(),\n",
    "        activation=ELU()\n",
    "    )\n",
    "    for i in range(no_hidden_layers)\n",
    "]\n",
    "\n",
    "output_layer_spec = RFNLayerSpecification(\n",
    "    units=1,\n",
    "    fusion='additive',\n",
    "    aggregator='non-attentional',\n",
    "    normalization=NoNormalization(),\n",
    "    activation='relu'\n",
    ")"
   ]
  },
  {
   "cell_type": "code",
   "execution_count": 11,
   "metadata": {},
   "outputs": [],
   "source": [
    "rfn = make_rfn(\n",
    "    input_feature_info, hidden_layer_specs, output_layer_spec, output_mode='edge')"
   ]
  },
  {
   "cell_type": "markdown",
   "metadata": {},
   "source": [
    "## Training the Network\n",
    "The following is standard code for training any neural network in the MXNet deep learning library. It has been included here for completeness."
   ]
  },
  {
   "cell_type": "code",
   "execution_count": 12,
   "metadata": {},
   "outputs": [
    {
     "name": "stdout",
     "output_type": "stream",
     "text": [
      "Loss at Epoch 1: 0.19461780786514282\n",
      "Loss at Epoch 2: 0.07784491777420044\n",
      "Loss at Epoch 3: 0.05980578437447548\n",
      "Loss at Epoch 4: 0.05288534238934517\n",
      "Loss at Epoch 5: 0.04884669557213783\n",
      "Loss at Epoch 6: 0.045770902186632156\n",
      "Loss at Epoch 7: 0.0436779223382473\n",
      "Loss at Epoch 8: 0.041823867708444595\n",
      "Loss at Epoch 9: 0.03988156095147133\n",
      "Loss at Epoch 10: 0.037888046354055405\n"
     ]
    }
   ],
   "source": [
    "from mxnet import autograd\n",
    "from mxnet.gluon import Trainer\n",
    "from mxnet.gluon.loss import L2Loss\n",
    "\n",
    "no_epochs = 10\n",
    "learning_rate = 0.001\n",
    "loss_function = L2Loss()\n",
    "optimizer = 'adam'\n",
    "\n",
    "rfn.initialize()\n",
    "trainer = Trainer(rfn.collect_params(), optimizer, {'learning_rate': learning_rate})\n",
    "\n",
    "for epoch in range(1, no_epochs + 1):\n",
    "    with autograd.record():\n",
    "        y_pred = rfn(X_V, X_E, X_B,\n",
    "                N_node_primal, N_edge_primal, N_mask_primal, \n",
    "                N_node_dual, N_edge_dual, N_common_node, N_mask_dual)\n",
    "        loss = loss_function(y_pred, y)\n",
    "    loss.backward()\n",
    "    trainer.step(batch_size=len(y))\n",
    "    print(f'Loss at Epoch {epoch}: {loss.mean().asscalar()}')"
   ]
  },
  {
   "cell_type": "markdown",
   "metadata": {},
   "source": [
    "## Final Remarks\n",
    " - If you are getting NaN weights or gradients, try\n",
    "     1. using MXNet's built-in support for Xavier initialization to encourage all gradients to have similar scales and consider adjusting, \n",
    "     2. decrease the learning rate, or\n",
    "     3. use Stochastic Gradient Descent (SGD) to post-initialize the parameters s.t. they are closer to a good local or global minimum before applying an adaptive gradient method such as Adam which may overadapt to large improvements early in the training process."
   ]
  },
  {
   "cell_type": "markdown",
   "metadata": {},
   "source": [
    "## References\n",
    "[1]: Tobias Skovgaard Jepsen, Christian S. Jensen, and Thomas Dyhre Nielsen.  \"Graph Convolutional Networks for Road Networks.\" In _27th ACM SIGSPATIAL International Conference on Advances in Geographic Information Systems (SIGSPATIAL ’19)_. 2019.\n",
    "\n",
    "[2]: Tobias Skovgaard Jepsen, Christian S. Jensen, and Thomas Dyhre Nielsen. \"Graph Convolutional Networks for Road Networks.\" _arXiv e-prints_, arXiv:1908.11567. 2019.\n",
    "\n",
    "[3]: Hamilton, Will, Zhitao Ying, and Jure Leskovec. \"Inductive representation learning on large graphs.\" _Advances in Neural Information Processing Systems_. 2017."
   ]
  }
 ],
 "metadata": {
  "kernelspec": {
   "display_name": "rne",
   "language": "python",
   "name": "rne"
  },
  "language_info": {
   "codemirror_mode": {
    "name": "ipython",
    "version": 3
   },
   "file_extension": ".py",
   "mimetype": "text/x-python",
   "name": "python",
   "nbconvert_exporter": "python",
   "pygments_lexer": "ipython3",
   "version": "3.6.4"
  }
 },
 "nbformat": 4,
 "nbformat_minor": 2
}
