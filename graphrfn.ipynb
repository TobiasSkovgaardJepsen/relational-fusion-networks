{
  "nbformat": 4,
  "nbformat_minor": 0,
  "metadata": {
    "colab": {
      "name": "graphrfn.ipynb",
      "provenance": []
    },
    "kernelspec": {
      "name": "python3",
      "display_name": "Python 3"
    },
    "language_info": {
      "name": "python"
    }
  },
  "cells": [
    {
      "cell_type": "code",
      "execution_count": 8,
      "metadata": {
        "colab": {
          "base_uri": "https://localhost:8080/"
        },
        "id": "yOmp52TRtd3H",
        "outputId": "b5f1d7f8-ba1d-480c-f049-90007d410b23"
      },
      "outputs": [
        {
          "output_type": "stream",
          "name": "stdout",
          "text": [
            "Mounted at /content/gdrive\n"
          ]
        }
      ],
      "source": [
        "from google.colab import drive\n",
        "drive.mount('/content/gdrive')"
      ]
    },
    {
      "cell_type": "code",
      "source": [
        "!unzip /content/gdrive/MyDrive/Colab_Notebooks/graph_road_extraction/relational-fusion-networks.zip"
      ],
      "metadata": {
        "colab": {
          "base_uri": "https://localhost:8080/"
        },
        "id": "-PgDZl4etfRF",
        "outputId": "29e3df46-3428-4a6b-f120-255c02d1bcbc"
      },
      "execution_count": 9,
      "outputs": [
        {
          "output_type": "stream",
          "name": "stdout",
          "text": [
            "Archive:  /content/gdrive/MyDrive/Colab_Notebooks/graph_road_extraction/relational-fusion-networks.zip\n",
            "  inflating: Pipfile                 \n",
            "  inflating: Pipfile.lock            \n",
            "  inflating: README.md               \n",
            "  inflating: requirements.txt        \n",
            "  inflating: Tutorial.ipynb          \n",
            "   creating: .ipynb_checkpoints/\n",
            "   creating: rfn/\n",
            "   creating: rfn/factory_functions/\n",
            "  inflating: rfn/factory_functions/.__init__.py.swp  \n",
            "  inflating: rfn/factory_functions/data_types.py  \n",
            "  inflating: rfn/factory_functions/factory_functions.py  \n",
            "  inflating: rfn/factory_functions/__init__.py  \n",
            "  inflating: rfn/layer.py            \n",
            "  inflating: rfn/network.py          \n",
            "   creating: rfn/relational_fusion/\n",
            "  inflating: rfn/relational_fusion/aggregators.py  \n",
            "  inflating: rfn/relational_fusion/fusion_functions.py  \n",
            "  inflating: rfn/relational_fusion/normalizers.py  \n",
            "  inflating: rfn/relational_fusion/relational_fusion.py  \n",
            "  inflating: rfn/relational_fusion/utils.py  \n",
            "  inflating: rfn/relational_fusion/__init__.py  \n",
            "  inflating: rfn/utils.py            \n",
            " extracting: rfn/__init__.py         \n",
            "  inflating: .gitignore              \n",
            "  inflating: LICENSE                 \n"
          ]
        }
      ]
    },
    {
      "cell_type": "code",
      "source": [
        "!pip install -r requirements.txt"
      ],
      "metadata": {
        "colab": {
          "base_uri": "https://localhost:8080/",
          "height": 867
        },
        "id": "2NipxEqYtvTE",
        "outputId": "3f6c1987-08d1-48bf-a9cc-b9d42833a3da"
      },
      "execution_count": 11,
      "outputs": [
        {
          "output_type": "stream",
          "name": "stdout",
          "text": [
            "Collecting matplotlib==3.1.1\n",
            "  Downloading matplotlib-3.1.1-cp37-cp37m-manylinux1_x86_64.whl (13.1 MB)\n",
            "\u001b[K     |████████████████████████████████| 13.1 MB 856 kB/s \n",
            "\u001b[?25hCollecting mxnet==1.5.0\n",
            "  Downloading mxnet-1.5.0-py2.py3-none-manylinux1_x86_64.whl (25.4 MB)\n",
            "\u001b[K     |████████████████████████████████| 25.4 MB 41.7 MB/s \n",
            "\u001b[?25hCollecting networkx==2.3\n",
            "  Downloading networkx-2.3.zip (1.7 MB)\n",
            "\u001b[K     |████████████████████████████████| 1.7 MB 34.1 MB/s \n",
            "\u001b[?25hRequirement already satisfied: numpy>=1.11 in /usr/local/lib/python3.7/dist-packages (from matplotlib==3.1.1->-r requirements.txt (line 1)) (1.21.5)\n",
            "Requirement already satisfied: kiwisolver>=1.0.1 in /usr/local/lib/python3.7/dist-packages (from matplotlib==3.1.1->-r requirements.txt (line 1)) (1.3.2)\n",
            "Requirement already satisfied: cycler>=0.10 in /usr/local/lib/python3.7/dist-packages (from matplotlib==3.1.1->-r requirements.txt (line 1)) (0.11.0)\n",
            "Requirement already satisfied: pyparsing!=2.0.4,!=2.1.2,!=2.1.6,>=2.0.1 in /usr/local/lib/python3.7/dist-packages (from matplotlib==3.1.1->-r requirements.txt (line 1)) (3.0.7)\n",
            "Requirement already satisfied: python-dateutil>=2.1 in /usr/local/lib/python3.7/dist-packages (from matplotlib==3.1.1->-r requirements.txt (line 1)) (2.8.2)\n",
            "Requirement already satisfied: requests<3,>=2.20.0 in /usr/local/lib/python3.7/dist-packages (from mxnet==1.5.0->-r requirements.txt (line 2)) (2.23.0)\n",
            "Collecting graphviz<0.9.0,>=0.8.1\n",
            "  Downloading graphviz-0.8.4-py2.py3-none-any.whl (16 kB)\n",
            "Requirement already satisfied: decorator>=4.3.0 in /usr/local/lib/python3.7/dist-packages (from networkx==2.3->-r requirements.txt (line 3)) (4.4.2)\n",
            "Requirement already satisfied: six>=1.5 in /usr/local/lib/python3.7/dist-packages (from python-dateutil>=2.1->matplotlib==3.1.1->-r requirements.txt (line 1)) (1.15.0)\n",
            "Requirement already satisfied: idna<3,>=2.5 in /usr/local/lib/python3.7/dist-packages (from requests<3,>=2.20.0->mxnet==1.5.0->-r requirements.txt (line 2)) (2.10)\n",
            "Requirement already satisfied: chardet<4,>=3.0.2 in /usr/local/lib/python3.7/dist-packages (from requests<3,>=2.20.0->mxnet==1.5.0->-r requirements.txt (line 2)) (3.0.4)\n",
            "Requirement already satisfied: certifi>=2017.4.17 in /usr/local/lib/python3.7/dist-packages (from requests<3,>=2.20.0->mxnet==1.5.0->-r requirements.txt (line 2)) (2021.10.8)\n",
            "Requirement already satisfied: urllib3!=1.25.0,!=1.25.1,<1.26,>=1.21.1 in /usr/local/lib/python3.7/dist-packages (from requests<3,>=2.20.0->mxnet==1.5.0->-r requirements.txt (line 2)) (1.24.3)\n",
            "Building wheels for collected packages: networkx\n",
            "  Building wheel for networkx (setup.py) ... \u001b[?25l\u001b[?25hdone\n",
            "  Created wheel for networkx: filename=networkx-2.3-py2.py3-none-any.whl size=1556008 sha256=4ec4528ecbebb25b436c4ce62fbdbf57077db3888a7b484598a71f38466fcdc6\n",
            "  Stored in directory: /root/.cache/pip/wheels/44/e6/b8/4efaab31158e9e9ca9ed80b11f6b11130bac9a9672b3cbbeaf\n",
            "Successfully built networkx\n",
            "Installing collected packages: graphviz, networkx, mxnet, matplotlib\n",
            "  Attempting uninstall: graphviz\n",
            "    Found existing installation: graphviz 0.10.1\n",
            "    Uninstalling graphviz-0.10.1:\n",
            "      Successfully uninstalled graphviz-0.10.1\n",
            "  Attempting uninstall: networkx\n",
            "    Found existing installation: networkx 2.6.3\n",
            "    Uninstalling networkx-2.6.3:\n",
            "      Successfully uninstalled networkx-2.6.3\n",
            "  Attempting uninstall: matplotlib\n",
            "    Found existing installation: matplotlib 3.2.2\n",
            "    Uninstalling matplotlib-3.2.2:\n",
            "      Successfully uninstalled matplotlib-3.2.2\n",
            "\u001b[31mERROR: pip's dependency resolver does not currently take into account all the packages that are installed. This behaviour is the source of the following dependency conflicts.\n",
            "albumentations 0.1.12 requires imgaug<0.2.7,>=0.2.5, but you have imgaug 0.2.9 which is incompatible.\u001b[0m\n",
            "Successfully installed graphviz-0.8.4 matplotlib-3.1.1 mxnet-1.5.0 networkx-2.3\n"
          ]
        },
        {
          "output_type": "display_data",
          "data": {
            "application/vnd.colab-display-data+json": {
              "pip_warning": {
                "packages": [
                  "matplotlib",
                  "mpl_toolkits"
                ]
              }
            }
          },
          "metadata": {}
        }
      ]
    },
    {
      "cell_type": "code",
      "source": [
        "import networkx as nx\n",
        "import matplotlib.pyplot as plt\n",
        "\n",
        "def plot_graph(G, pos={}):\n",
        "    if not pos:\n",
        "        pos = nx.spring_layout(G)\n",
        "    \n",
        "    nx.draw_networkx_nodes(G, pos, node_size = 500)\n",
        "    nx.draw_networkx_labels(G, pos)\n",
        "    nx.draw_networkx_edges(G, pos, arrows=True)\n",
        "    plt.axis('off')\n",
        "    plt.show()"
      ],
      "metadata": {
        "id": "DVthb-mVuDzo"
      },
      "execution_count": 1,
      "outputs": []
    },
    {
      "cell_type": "code",
      "source": [
        "primal_graph = nx.DiGraph()\n",
        "\n",
        "primal_graph.add_edge('A', 'B')\n",
        "primal_graph.add_edge('B', 'A')\n",
        "\n",
        "primal_graph.add_edge('B', 'C')\n",
        "primal_graph.add_edge('C', 'B')\n",
        "\n",
        "primal_graph.add_edge('B', 'D')\n",
        "primal_graph.add_edge('D', 'B')\n",
        "\n",
        "pos = {\n",
        "    'A': (-1, 0),\n",
        "    'B': (0, 0),\n",
        "    'C': (0, 1),\n",
        "    'D': (0, -1)}\n",
        "\n",
        "plot_graph(primal_graph, pos)"
      ],
      "metadata": {
        "colab": {
          "base_uri": "https://localhost:8080/",
          "height": 352
        },
        "id": "mRHXNo-zwM22",
        "outputId": "1061cc2f-333d-44c8-f1e5-76d99e297af6"
      },
      "execution_count": 2,
      "outputs": [
        {
          "output_type": "stream",
          "name": "stderr",
          "text": [
            "/usr/local/lib/python3.7/dist-packages/networkx/drawing/nx_pylab.py:579: MatplotlibDeprecationWarning: \n",
            "The iterable function was deprecated in Matplotlib 3.1 and will be removed in 3.3. Use np.iterable instead.\n",
            "  if not cb.iterable(width):\n",
            "/usr/local/lib/python3.7/dist-packages/networkx/drawing/nx_pylab.py:676: MatplotlibDeprecationWarning: \n",
            "The iterable function was deprecated in Matplotlib 3.1 and will be removed in 3.3. Use np.iterable instead.\n",
            "  if cb.iterable(node_size):  # many node sizes\n"
          ]
        },
        {
          "output_type": "display_data",
          "data": {
            "image/png": "[encoded data removed]",
            "text/plain": [
              "<Figure size 432x288 with 1 Axes>"
            ]
          },
          "metadata": {}
        }
      ]
    },
    {
      "cell_type": "code",
      "source": [
        "dual_graph = nx.DiGraph()\n",
        "dual_graph.add_nodes_from(\n",
        "    ''.join(edge)\n",
        "    for edge in primal_graph.edges\n",
        ")\n",
        "\n",
        "for in_edge in primal_graph.edges():\n",
        "    in_source, in_target = in_edge\n",
        "    for out_target in primal_graph.successors(in_target):\n",
        "        dual_graph.add_edge(\n",
        "            ''.join(in_edge),\n",
        "            ''.join([in_target, out_target])\n",
        "        )\n",
        "\n",
        "pos = {\n",
        "    'AB': (0, 0),\n",
        "    'BA': (0, -1),\n",
        "    'BC': (1, 0),\n",
        "    'DB': (1, -1),\n",
        "    'CB': (2, 0),\n",
        "    'BD': (2, -1)\n",
        "}\n",
        "plot_graph(dual_graph, pos)"
      ],
      "metadata": {
        "colab": {
          "base_uri": "https://localhost:8080/",
          "height": 352
        },
        "id": "Qq1_DApXwPz0",
        "outputId": "669405c5-1788-4390-9c8a-4adc7aad3693"
      },
      "execution_count": 3,
      "outputs": [
        {
          "output_type": "stream",
          "name": "stderr",
          "text": [
            "/usr/local/lib/python3.7/dist-packages/networkx/drawing/nx_pylab.py:579: MatplotlibDeprecationWarning: \n",
            "The iterable function was deprecated in Matplotlib 3.1 and will be removed in 3.3. Use np.iterable instead.\n",
            "  if not cb.iterable(width):\n",
            "/usr/local/lib/python3.7/dist-packages/networkx/drawing/nx_pylab.py:676: MatplotlibDeprecationWarning: \n",
            "The iterable function was deprecated in Matplotlib 3.1 and will be removed in 3.3. Use np.iterable instead.\n",
            "  if cb.iterable(node_size):  # many node sizes\n"
          ]
        },
        {
          "output_type": "display_data",
          "data": {
            "image/png": "[encoded data removed]",
            "text/plain": [
              "<Figure size 432x288 with 1 Axes>"
            ]
          },
          "metadata": {}
        }
      ]
    },
    {
      "cell_type": "code",
      "source": [
        "from itertools import chain\n",
        "from mxnet import ndarray as nd\n",
        "import numpy as np\n",
        "from pprint import pprint"
      ],
      "metadata": {
        "id": "EAZ0fReawTfM"
      },
      "execution_count": 4,
      "outputs": []
    },
    {
      "cell_type": "code",
      "source": [
        "def make_neighborhood_matrices(graph, node_indices, edge_indices,\n",
        "                               is_dual=False, node_indices_primal=None):\n",
        "    \"\"\"\n",
        "        Converts a graph into node and edge the required neighborhood matrices with asso\n",
        "\n",
        "        Args:\n",
        "            graph: A networkx primal or dual graph presentation of a road network.\n",
        "            node_indices: A map from node objects in the graph to node indexes in\n",
        "                          the output node neighborhood matrix N_node.\n",
        "            edge_indices: A map from edge objects in the graph to edge indexes in\n",
        "                          the output edge neighborhood matrix N_edge.\n",
        "            is_dual: Boolean flag that indicates whether the graph is a dual graph.\n",
        "            node_indices_primal: Must be supplied if is_dual is True.\n",
        "                                 Maps node objects in the primal graph to node indexes in\n",
        "                                 the common node neighborhood matrix N_common_node.\n",
        "        Returns:\n",
        "            N_node: A node adjacency list in matrix format.\n",
        "                    The ith row contains the node indices of the nodes\n",
        "                    in the neighborhood of the ith node. of the ith node.\n",
        "            N_edge: A node adjacency list in matrix format.\n",
        "                    The ith row contains the edge indices of the edges connecting the ith\n",
        "                    node to its neighbors.\n",
        "            N_mask: A matrix that indicates whether the jth entry in N_node or N_edge \n",
        "                    exists in the graph.\n",
        "            N_common_node: Only returned if is_dual=True.\n",
        "                           A common node is a node that is common to the two edges\n",
        "                           connected by a between-edge. The ith row and jth column in \n",
        "                           this matrix contains the index of the common node that connects \n",
        "                           ith edge (a node in the dual graph) is connected to its jth neighbor.\n",
        "            N_common_mask: Only returned if is_dual=True.\n",
        "                           Similar to N_mask, N_common_mask indicates whether the jth entry in\n",
        "                           N_common_node exists in the graph.\n",
        "                           \n",
        "        Raises:\n",
        "            KeyError: Raises an exception.\n",
        "    \"\"\"\n",
        "    assert not is_dual or is_dual and node_indices_primal is not None\n",
        "    N_node = []\n",
        "    N_edge = []\n",
        "    \n",
        "    nodes = sorted(\n",
        "        list(graph.nodes()),\n",
        "        key=lambda node: node_indices[node])\n",
        "\n",
        "    for node in nodes:\n",
        "        node_neighbors = []\n",
        "        edge_neighbors = []\n",
        "        \n",
        "        predecessors = graph.predecessors(node)\n",
        "        for neighbor in predecessors:\n",
        "            node_neighbors.append(node_indices[neighbor])\n",
        "            edge = (neighbor, node)\n",
        "            edge_neighbors.append(edge_indices[edge])\n",
        "        \n",
        "        successors = graph.successors(node)\n",
        "        for neighbor in successors:\n",
        "            node_neighbors.append(node_indices[neighbor])\n",
        "            edge = (node, neighbor)\n",
        "            edge_neighbors.append(edge_indices[edge])\n",
        "\n",
        "        assert len(node_neighbors) == len(edge_neighbors)\n",
        "        N_node.append(node_neighbors)\n",
        "        N_edge.append(edge_neighbors)\n",
        "        \n",
        "    N_node, N_mask = mask_neighborhoods(N_node)\n",
        "    N_edge, _ = mask_neighborhoods(N_edge)\n",
        "    N_mask = N_mask.reshape(*N_node.shape[:2], 1)\n",
        "\n",
        "    if is_dual:\n",
        "        N_common_node = [\n",
        "            [node_indices_primal[edge[0][1]]]\n",
        "             for edge in graph.edges()]\n",
        "        N_common_node, N_common_node_mask = mask_neighborhoods(N_common_node, is_dual)\n",
        "        N_common_node_mask = N_common_node_mask.reshape(*N_common_node.shape[:2], 1)\n",
        "        return (N_node, N_edge, N_mask), (N_common_node, N_common_node_mask)\n",
        "    else:\n",
        "        return N_node, N_edge, N_mask\n",
        "\n",
        "def mask_neighborhoods(neighborhoods_list, is_dual=False):\n",
        "    max_no_neighbors = (\n",
        "        max(len(n) for n in neighborhoods_list) if not is_dual\n",
        "        else 1)\n",
        "    shape = (len(neighborhoods_list), max_no_neighbors)\n",
        "\n",
        "    neighborhoods_array = nd.zeros(\n",
        "        shape=shape,\n",
        "        dtype=np.int32)\n",
        "    mask = nd.zeros(shape=shape)\n",
        "\n",
        "    for idx, neighborhood in enumerate(neighborhoods_list):\n",
        "        neighborhood_size = len(neighborhood)\n",
        "        if neighborhood_size == 0:\n",
        "            mask[:] = 1\n",
        "            continue\n",
        "        else:\n",
        "            neighborhoods_array[idx][:neighborhood_size] = neighborhood\n",
        "            mask[idx][:neighborhood_size] = 1\n",
        "\n",
        "    return neighborhoods_array, mask"
      ],
      "metadata": {
        "id": "43qmFO3nwXyc"
      },
      "execution_count": 5,
      "outputs": []
    },
    {
      "cell_type": "code",
      "source": [
        "node_indices_primal = {node: idx for idx, node in enumerate(primal_graph.nodes())}\n",
        "edge_indices_primal = {edge: idx for idx, edge in enumerate(primal_graph.edges())}\n",
        "\n",
        "N_node_primal, N_edge_primal, N_mask_primal = edge_neighborhoods_primal = make_neighborhood_matrices(\n",
        "    primal_graph, node_indices_primal, edge_indices_primal)\n",
        "print('Neighborhood and Mask Matrices for the Primal Graph')\n",
        "print('N_node', N_node_primal)\n",
        "print('N_edge', N_edge_primal)\n",
        "print('N_mask', N_mask_primal)"
      ],
      "metadata": {
        "colab": {
          "base_uri": "https://localhost:8080/"
        },
        "id": "W-k3JIV5wa6U",
        "outputId": "1448aff9-d965-40de-b566-7c39b1c3b45f"
      },
      "execution_count": 6,
      "outputs": [
        {
          "output_type": "stream",
          "name": "stdout",
          "text": [
            "Neighborhood and Mask Matrices for the Primal Graph\n",
            "N_node \n",
            "[[1 1 0 0 0 0]\n",
            " [0 2 3 0 2 3]\n",
            " [1 1 0 0 0 0]\n",
            " [1 1 0 0 0 0]]\n",
            "<NDArray 4x6 @cpu(0)>\n",
            "N_edge \n",
            "[[1 0 0 0 0 0]\n",
            " [0 4 5 1 2 3]\n",
            " [2 4 0 0 0 0]\n",
            " [3 5 0 0 0 0]]\n",
            "<NDArray 4x6 @cpu(0)>\n",
            "N_mask \n",
            "[[[1.]\n",
            "  [1.]\n",
            "  [0.]\n",
            "  [0.]\n",
            "  [0.]\n",
            "  [0.]]\n",
            "\n",
            " [[1.]\n",
            "  [1.]\n",
            "  [1.]\n",
            "  [1.]\n",
            "  [1.]\n",
            "  [1.]]\n",
            "\n",
            " [[1.]\n",
            "  [1.]\n",
            "  [0.]\n",
            "  [0.]\n",
            "  [0.]\n",
            "  [0.]]\n",
            "\n",
            " [[1.]\n",
            "  [1.]\n",
            "  [0.]\n",
            "  [0.]\n",
            "  [0.]\n",
            "  [0.]]]\n",
            "<NDArray 4x6x1 @cpu(0)>\n"
          ]
        }
      ]
    },
    {
      "cell_type": "code",
      "source": [
        "node_indices_dual = {node: idx for idx, node in enumerate(dual_graph.nodes())}\n",
        "edge_indices_dual = {edge: idx for idx, edge in enumerate(dual_graph.edges())}\n",
        "\n",
        "(N_node_dual, N_edge_dual, N_mask_dual), (N_common_node, N_common_node_mask) = make_neighborhood_matrices(\n",
        "    dual_graph, node_indices_dual, edge_indices_dual,\n",
        "    is_dual=True, node_indices_primal=node_indices_primal)\n",
        "\n",
        "pprint([(N_node_dual, N_edge_dual, N_mask_dual), (N_common_node, N_common_node_mask)])\n",
        "print('Neighborhood and Mask Matrices for the Dual Graph')\n",
        "print('N_node', N_node_dual)\n",
        "print('N_edge', N_edge_dual)\n",
        "print('N_mask', N_mask_dual)\n",
        "print('N_common_node', N_common_node)\n",
        "print('N_common_node_mask', N_common_node_mask)"
      ],
      "metadata": {
        "colab": {
          "base_uri": "https://localhost:8080/"
        },
        "id": "siD5zp0bwdnk",
        "outputId": "45a825cb-dd37-447a-b5db-b0da0d202a51"
      },
      "execution_count": 7,
      "outputs": [
        {
          "output_type": "stream",
          "name": "stdout",
          "text": [
            "[(\n",
            "[[1 1 2 3]\n",
            " [0 4 5 0]\n",
            " [0 4 5 4]\n",
            " [0 4 5 5]\n",
            " [2 1 2 3]\n",
            " [3 1 2 3]]\n",
            "<NDArray 6x4 @cpu(0)>,\n",
            "  \n",
            "[[ 3  0  1  2]\n",
            " [ 0  6  9  3]\n",
            " [ 1  7 10  4]\n",
            " [ 2  8 11  5]\n",
            " [ 4  6  7  8]\n",
            " [ 5  9 10 11]]\n",
            "<NDArray 6x4 @cpu(0)>,\n",
            "  \n",
            "[[[1.]\n",
            "  [1.]\n",
            "  [1.]\n",
            "  [1.]]\n",
            "\n",
            " [[1.]\n",
            "  [1.]\n",
            "  [1.]\n",
            "  [1.]]\n",
            "\n",
            " [[1.]\n",
            "  [1.]\n",
            "  [1.]\n",
            "  [1.]]\n",
            "\n",
            " [[1.]\n",
            "  [1.]\n",
            "  [1.]\n",
            "  [1.]]\n",
            "\n",
            " [[1.]\n",
            "  [1.]\n",
            "  [1.]\n",
            "  [1.]]\n",
            "\n",
            " [[1.]\n",
            "  [1.]\n",
            "  [1.]\n",
            "  [1.]]]\n",
            "<NDArray 6x4x1 @cpu(0)>),\n",
            " (\n",
            "[[1]\n",
            " [1]\n",
            " [1]\n",
            " [0]\n",
            " [2]\n",
            " [3]\n",
            " [1]\n",
            " [1]\n",
            " [1]\n",
            " [1]\n",
            " [1]\n",
            " [1]]\n",
            "<NDArray 12x1 @cpu(0)>,\n",
            "  \n",
            "[[[1.]]\n",
            "\n",
            " [[1.]]\n",
            "\n",
            " [[1.]]\n",
            "\n",
            " [[1.]]\n",
            "\n",
            " [[1.]]\n",
            "\n",
            " [[1.]]\n",
            "\n",
            " [[1.]]\n",
            "\n",
            " [[1.]]\n",
            "\n",
            " [[1.]]\n",
            "\n",
            " [[1.]]\n",
            "\n",
            " [[1.]]\n",
            "\n",
            " [[1.]]]\n",
            "<NDArray 12x1x1 @cpu(0)>)]\n",
            "Neighborhood and Mask Matrices for the Dual Graph\n",
            "N_node \n",
            "[[1 1 2 3]\n",
            " [0 4 5 0]\n",
            " [0 4 5 4]\n",
            " [0 4 5 5]\n",
            " [2 1 2 3]\n",
            " [3 1 2 3]]\n",
            "<NDArray 6x4 @cpu(0)>\n",
            "N_edge \n",
            "[[ 3  0  1  2]\n",
            " [ 0  6  9  3]\n",
            " [ 1  7 10  4]\n",
            " [ 2  8 11  5]\n",
            " [ 4  6  7  8]\n",
            " [ 5  9 10 11]]\n",
            "<NDArray 6x4 @cpu(0)>\n",
            "N_mask \n",
            "[[[1.]\n",
            "  [1.]\n",
            "  [1.]\n",
            "  [1.]]\n",
            "\n",
            " [[1.]\n",
            "  [1.]\n",
            "  [1.]\n",
            "  [1.]]\n",
            "\n",
            " [[1.]\n",
            "  [1.]\n",
            "  [1.]\n",
            "  [1.]]\n",
            "\n",
            " [[1.]\n",
            "  [1.]\n",
            "  [1.]\n",
            "  [1.]]\n",
            "\n",
            " [[1.]\n",
            "  [1.]\n",
            "  [1.]\n",
            "  [1.]]\n",
            "\n",
            " [[1.]\n",
            "  [1.]\n",
            "  [1.]\n",
            "  [1.]]]\n",
            "<NDArray 6x4x1 @cpu(0)>\n",
            "N_common_node \n",
            "[[1]\n",
            " [1]\n",
            " [1]\n",
            " [0]\n",
            " [2]\n",
            " [3]\n",
            " [1]\n",
            " [1]\n",
            " [1]\n",
            " [1]\n",
            " [1]\n",
            " [1]]\n",
            "<NDArray 12x1 @cpu(0)>\n",
            "N_common_node_mask \n",
            "[[[1.]]\n",
            "\n",
            " [[1.]]\n",
            "\n",
            " [[1.]]\n",
            "\n",
            " [[1.]]\n",
            "\n",
            " [[1.]]\n",
            "\n",
            " [[1.]]\n",
            "\n",
            " [[1.]]\n",
            "\n",
            " [[1.]]\n",
            "\n",
            " [[1.]]\n",
            "\n",
            " [[1.]]\n",
            "\n",
            " [[1.]]\n",
            "\n",
            " [[1.]]]\n",
            "<NDArray 12x1x1 @cpu(0)>\n"
          ]
        }
      ]
    },
    {
      "cell_type": "code",
      "source": [
        "X_V = nd.random.uniform(shape=(primal_graph.number_of_nodes(), 1))  # Node Features\n",
        "X_E = nd.random.uniform(shape=(primal_graph.number_of_edges(), 3))  # Edge Features\n",
        "X_B = nd.random.uniform(shape=(dual_graph.number_of_edges(), 2))    # Between-Edge Features\n",
        "(X_V, X_E, X_B)\n",
        "\n",
        "y = nd.random.uniform(shape=(primal_graph.number_of_edges(), 1))"
      ],
      "metadata": {
        "id": "ME7j8O4gwgxF"
      },
      "execution_count": 8,
      "outputs": []
    },
    {
      "cell_type": "code",
      "source": [
        "from rfn.factory_functions import make_rfn, RFNLayerSpecification, FeatureInfo\n",
        "from rfn.relational_fusion.normalizers import NoNormalization, L2Normalization\n",
        "from mxnet.gluon.nn import ELU"
      ],
      "metadata": {
        "id": "Aq4J1HJlwjwd"
      },
      "execution_count": 15,
      "outputs": []
    },
    {
      "cell_type": "code",
      "source": [
        "input_feature_info = FeatureInfo.from_feature_matrices(X_V, X_E, X_B)\n",
        "no_hidden_layers = 3\n",
        "hidden_layer_specs = [\n",
        "    RFNLayerSpecification(\n",
        "        units=16,\n",
        "        fusion='interactional',\n",
        "        aggregator='attentional',\n",
        "        normalization=L2Normalization(),\n",
        "        activation=ELU()\n",
        "    )\n",
        "    for i in range(no_hidden_layers)\n",
        "]\n",
        "\n",
        "output_layer_spec = RFNLayerSpecification(\n",
        "    units=1,\n",
        "    fusion='additive',\n",
        "    aggregator='non-attentional',\n",
        "    normalization=NoNormalization(),\n",
        "    activation='relu'\n",
        ")"
      ],
      "metadata": {
        "id": "8v5jhiIlwm_l"
      },
      "execution_count": 16,
      "outputs": []
    },
    {
      "cell_type": "code",
      "source": [
        "rfn = make_rfn(\n",
        "    input_feature_info, hidden_layer_specs, output_layer_spec, output_mode='edge')"
      ],
      "metadata": {
        "id": "C5W91OWLwqV1"
      },
      "execution_count": 17,
      "outputs": []
    },
    {
      "cell_type": "code",
      "source": [
        "from mxnet import autograd\n",
        "from mxnet.gluon import Trainer\n",
        "from mxnet.gluon.loss import L2Loss\n",
        "\n",
        "no_epochs = 10\n",
        "learning_rate = 0.001\n",
        "loss_function = L2Loss()\n",
        "optimizer = 'adam'\n",
        "\n",
        "rfn.initialize()\n",
        "trainer = Trainer(rfn.collect_params(), optimizer, {'learning_rate': learning_rate})\n",
        "\n",
        "for epoch in range(1, no_epochs + 1):\n",
        "    with autograd.record():\n",
        "        y_pred = rfn(X_V, X_E, X_B,\n",
        "                N_node_primal, N_edge_primal, N_mask_primal, \n",
        "                N_node_dual, N_edge_dual, N_common_node, N_mask_dual)\n",
        "        loss = loss_function(y_pred, y)\n",
        "    loss.backward()\n",
        "    trainer.step(batch_size=len(y))\n",
        "    print(f'Loss at Epoch {epoch}: {loss.mean().asscalar()}')"
      ],
      "metadata": {
        "colab": {
          "base_uri": "https://localhost:8080/"
        },
        "id": "B2_HGUzawt-l",
        "outputId": "d5025116-e775-45b8-9fd5-5d371728e7ad"
      },
      "execution_count": 18,
      "outputs": [
        {
          "output_type": "stream",
          "name": "stdout",
          "text": [
            "Loss at Epoch 1: 0.19461780786514282\n",
            "Loss at Epoch 2: 0.07784491777420044\n",
            "Loss at Epoch 3: 0.05980579927563667\n",
            "Loss at Epoch 4: 0.05288533866405487\n",
            "Loss at Epoch 5: 0.04884670302271843\n",
            "Loss at Epoch 6: 0.04577090963721275\n",
            "Loss at Epoch 7: 0.0436779223382473\n",
            "Loss at Epoch 8: 0.04182387515902519\n",
            "Loss at Epoch 9: 0.03988155722618103\n",
            "Loss at Epoch 10: 0.037888046354055405\n"
          ]
        }
      ]
    },
    {
      "cell_type": "code",
      "source": [
        ""
      ],
      "metadata": {
        "id": "H2zCe6umxHtr"
      },
      "execution_count": null,
      "outputs": []
    }
  ]
}